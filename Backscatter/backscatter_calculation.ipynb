{
 "cells": [
  {
   "cell_type": "code",
   "execution_count": 7,
   "metadata": {},
   "outputs": [],
   "source": [
    "import numpy as np\n",
    "import scipy as sc"
   ]
  },
  {
   "cell_type": "markdown",
   "metadata": {},
   "source": [
    "## Theoretical Framework\n",
    "Backscatter is calculated based on the descriptions in the book \"Quantitative Ultrasound in soft tisses\" from 2013\n",
    "Core Equation is given by Yao et al 1990 (https://pubmed.ncbi.nlm.nih.gov/2184569/), where they describe the backscatter independent from transducer type; Main Limitation is the asumption of equal sound speeds in tissue and reference phantom.\n",
    "\n",
    " \\begin{equation}\n",
    " \\sigma^{S}_{_{BSC}}( \\omega) = \\sigma^{R}_{_{BSC}}(\\omega)*e^{-4z(\\alpha_{R}(\\omega)-\\alpha_{S}(\\omega))} \\frac{|S_{_S}(\\omega)|^{2}}{|S_{_R}(\\omega)|^{2}}\n",
    " \\end{equation}\n",
    "\n",
    " with:  \n",
    " $\\sigma^{_{BSC}}( \\omega)$ ... Backscatter coefficent for a frequency $\\alpha_{R}(\\omega)\\\\$\n",
    " $z$ ... Depth of the measurement  \n",
    " $\\alpha(\\omega)$ ... attenuation of the frequency $\\alpha_{R}(\\omega)\\\\$\n",
    " $S(\\omega)$ ... Fourie-Transform of the signal  \n",
    " $_{_S}$ ... denotes the measured signal of the tissue  \n",
    " $_{_R}$ ... denotes the measured signal of the phantom  \n",
    "\n",
    "By transforming $S(\\omega)$ to $|S(\\omega)|^{2}$ we recieve the power spectrum. The square transforms the imaginary number of the fourier transform to a reel number. Why the Quadrature is taken, is unclear, but Edgar suspects it increases the continuity of the absolute values.\n",
    "\n",
    "The formula is coded in the function calculate_bsc, saved in the definitions.py."
   ]
  },
  {
   "cell_type": "code",
   "execution_count": 8,
   "metadata": {},
   "outputs": [],
   "source": [
    "def calculate_bsc (bsc_ref: any, depth: any, atten_ref: any, atten_samp: any, spectrum_samp: any, spectrum_ref: any) -> any:\n",
    "    \"\"\" \n",
    "    This function the following takes variables and returns the backscatter coefficient:\n",
    "    bsc_ref: backscatter coefficient of the used reference phantom\n",
    "    depth: is the depth im [mm] of the measurement\n",
    "    atten_ref: is the attenuation of the reference phantom\n",
    "    atten_samp: is the attenuation of the sample\n",
    "    spectrum_samp: is the fourier transform of the sample signla\n",
    "    spectrum_ref: is the fourie transform of the reference phantom\n",
    "    \"\"\"\n",
    "    bsc= bsc_ref * np.exp(-4*depth*(atten_ref-atten_samp)) * ((np.abs(spectrum_samp)^2)/(np.abs(spectrum_ref)^2))\n",
    "    \n",
    "    return bsc\n"
   ]
  },
  {
   "cell_type": "markdown",
   "metadata": {},
   "source": [
    "## Data preparation\n",
    "The data preparation is performed similar to Lizzi Felepa (done by Jakob Schäfer). "
   ]
  },
  {
   "cell_type": "code",
   "execution_count": null,
   "metadata": {},
   "outputs": [],
   "source": []
  },
  {
   "cell_type": "markdown",
   "metadata": {},
   "source": [
    "## Caculation of required varriables\n",
    "The required Variables for the calculation of the BSC is performed below"
   ]
  },
  {
   "cell_type": "code",
   "execution_count": null,
   "metadata": {},
   "outputs": [],
   "source": []
  },
  {
   "cell_type": "markdown",
   "metadata": {},
   "source": [
    "## Calculation of the BSC"
   ]
  },
  {
   "cell_type": "code",
   "execution_count": null,
   "metadata": {},
   "outputs": [],
   "source": [
    "calculate_bsc()"
   ]
  }
 ],
 "metadata": {
  "kernelspec": {
   "display_name": "Python 3",
   "language": "python",
   "name": "python3"
  },
  "language_info": {
   "codemirror_mode": {
    "name": "ipython",
    "version": 3
   },
   "file_extension": ".py",
   "mimetype": "text/x-python",
   "name": "python",
   "nbconvert_exporter": "python",
   "pygments_lexer": "ipython3",
   "version": "3.10.11"
  },
  "orig_nbformat": 4
 },
 "nbformat": 4,
 "nbformat_minor": 2
}
